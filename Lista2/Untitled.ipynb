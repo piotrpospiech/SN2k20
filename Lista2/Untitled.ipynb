{
 "cells": [
  {
   "cell_type": "markdown",
   "metadata": {},
   "source": [
    "### **Ćwiczenie 2** - sieć wielowarstwowa uczona metodą propagacji wstecznej"
   ]
  },
  {
   "cell_type": "code",
   "execution_count": 1,
   "metadata": {},
   "outputs": [
    {
     "name": "stdout",
     "output_type": "stream",
     "text": [
      "X_train: (60000, 28, 28)\n",
      "Y_train: (60000,)\n",
      "X_test:  (10000, 28, 28)\n",
      "Y_test:  (10000,)\n"
     ]
    }
   ],
   "source": [
    "from keras.datasets import mnist\n",
    "\n",
    "(train_X, train_y), (test_X, test_y) = mnist.load_data()\n",
    "\n",
    "print('X_train: ' + str(train_X.shape))\n",
    "print('Y_train: ' + str(train_y.shape))\n",
    "print('X_test:  '  + str(test_X.shape))\n",
    "print('Y_test:  '  + str(test_y.shape))"
   ]
  },
  {
   "cell_type": "code",
   "execution_count": 2,
   "metadata": {},
   "outputs": [],
   "source": [
    "import numpy as np\n",
    "import random as random\n",
    "\n",
    "class Network():\n",
    "    \n",
    "    # Utils\n",
    "    \n",
    "    def __generate_random_matrix(self, shape_x, shape_y, max_value=1):\n",
    "        return np.random.rand(shape_x, shape_y) * 2 * max_value - max_value\n",
    "    \n",
    "    def __generate_random_number(self, max_value=1):\n",
    "        return random.random() * 2 * max_value - max_value\n",
    "    \n",
    "    # Constructor\n",
    "    \n",
    "    def __init__(self, layer_shapes):\n",
    "        self.weights = []\n",
    "        self.biases = []\n",
    "        \n",
    "        for layer_shape in layer_shapes:\n",
    "            shape_x, shape_y = layer_shape\n",
    "            self.weights.append(self.__generate_random_matrix(shape_x, shape_y))\n",
    "            self.biases.append(self.__generate_random_number())\n",
    "        \n",
    "    # Code\n",
    "    \n",
    "    @staticmethod\n",
    "    def normalize(X):\n",
    "        return X / 254\n",
    "    \n",
    "    def __propagate_forward(self, a):\n",
    "        for b, w in zip(self.biases, self.weights):\n",
    "            a = self.__sigmoid(w @ a + b)\n",
    "        return a\n",
    "    \n",
    "    def __sigmoid(self, z):\n",
    "        return 1.0 / (1.0 + np.exp(-z))\n",
    "\n",
    "    def predict(self, X):\n",
    "        a = self.__propagate_forward(X)\n",
    "        # print('Prediction result:\\n', a)\n",
    "        a[:] = np.where(a == np.max(a), 1, 0)\n",
    "        return a\n",
    "    \n",
    "    def get_number_from_prediction(self, prediction):\n",
    "        return np.where(prediction == np.max(prediction))[0][0]"
   ]
  },
  {
   "cell_type": "code",
   "execution_count": 3,
   "metadata": {},
   "outputs": [
    {
     "name": "stdout",
     "output_type": "stream",
     "text": [
      "Result number: 1\n",
      "Label: 5\n"
     ]
    }
   ],
   "source": [
    "np.random.seed(243)\n",
    "random.seed(243)\n",
    "\n",
    "image_reshaped_size = train_X.shape[1] * train_X.shape[2]\n",
    "layer_shapes=[(15, image_reshaped_size), (10, 15)]\n",
    "\n",
    "network = Network(layer_shapes=layer_shapes)\n",
    "\n",
    "example_X = network.normalize(train_X[0].reshape(image_reshaped_size, 1))\n",
    "prediction = network.predict(example_X)\n",
    "\n",
    "# print('Predicted array:', network.propagate_forward(example_X))\n",
    "print('Result number:', network.get_number_from_prediction(prediction))\n",
    "print('Label:', train_y[0])"
   ]
  },
  {
   "cell_type": "code",
   "execution_count": 4,
   "metadata": {},
   "outputs": [
    {
     "data": {
      "image/png": "[encoded data removed]",
      "text/plain": [
       "<Figure size 432x288 with 1 Axes>"
      ]
     },
     "metadata": {
      "needs_background": "light"
     },
     "output_type": "display_data"
    }
   ],
   "source": [
    "from matplotlib import pyplot\n",
    "\n",
    "pyplot.imshow(train_X[0], cmap=pyplot.get_cmap('gray'))\n",
    "pyplot.show()"
   ]
  },
  {
   "cell_type": "code",
   "execution_count": null,
   "metadata": {},
   "outputs": [],
   "source": []
  }
 ],
 "metadata": {
  "kernelspec": {
   "display_name": "Python 3",
   "language": "python",
   "name": "python3"
  },
  "language_info": {
   "codemirror_mode": {
    "name": "ipython",
    "version": 3
   },
   "file_extension": ".py",
   "mimetype": "text/x-python",
   "name": "python",
   "nbconvert_exporter": "python",
   "pygments_lexer": "ipython3",
   "version": "3.8.5"
  }
 },
 "nbformat": 4,
 "nbformat_minor": 4
}
